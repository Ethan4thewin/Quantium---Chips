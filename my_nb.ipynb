{
 "cells": [
  {
   "cell_type": "markdown",
   "metadata": {},
   "source": [
    "# Data preparation and customer analytics"
   ]
  },
  {
   "cell_type": "code",
   "execution_count": 315,
   "metadata": {},
   "outputs": [],
   "source": [
    "# Load required packages\n",
    "import numpy as np\n",
    "import pandas as pd\n",
    "import datetime\n",
    "import matplotlib.pyplot as plt"
   ]
  },
  {
   "cell_type": "code",
   "execution_count": 316,
   "metadata": {},
   "outputs": [],
   "source": [
    "# Load data\n",
    "transactions = pd.read_excel('QVI_transaction_data.xlsx')\n",
    "customers = pd.read_csv('QVI_purchase_behaviour.csv')"
   ]
  },
  {
   "cell_type": "markdown",
   "metadata": {},
   "source": [
    "## Examining transactions data"
   ]
  },
  {
   "cell_type": "code",
   "execution_count": 317,
   "metadata": {},
   "outputs": [
    {
     "data": {
      "text/html": [
       "<div>\n",
       "<style scoped>\n",
       "    .dataframe tbody tr th:only-of-type {\n",
       "        vertical-align: middle;\n",
       "    }\n",
       "\n",
       "    .dataframe tbody tr th {\n",
       "        vertical-align: top;\n",
       "    }\n",
       "\n",
       "    .dataframe thead th {\n",
       "        text-align: right;\n",
       "    }\n",
       "</style>\n",
       "<table border=\"1\" class=\"dataframe\">\n",
       "  <thead>\n",
       "    <tr style=\"text-align: right;\">\n",
       "      <th></th>\n",
       "      <th>DATE</th>\n",
       "      <th>STORE_NBR</th>\n",
       "      <th>LYLTY_CARD_NBR</th>\n",
       "      <th>TXN_ID</th>\n",
       "      <th>PROD_NBR</th>\n",
       "      <th>PROD_NAME</th>\n",
       "      <th>PROD_QTY</th>\n",
       "      <th>TOT_SALES</th>\n",
       "    </tr>\n",
       "  </thead>\n",
       "  <tbody>\n",
       "    <tr>\n",
       "      <th>0</th>\n",
       "      <td>43390</td>\n",
       "      <td>1</td>\n",
       "      <td>1000</td>\n",
       "      <td>1</td>\n",
       "      <td>5</td>\n",
       "      <td>Natural Chip        Compny SeaSalt175g</td>\n",
       "      <td>2</td>\n",
       "      <td>6.0</td>\n",
       "    </tr>\n",
       "    <tr>\n",
       "      <th>1</th>\n",
       "      <td>43599</td>\n",
       "      <td>1</td>\n",
       "      <td>1307</td>\n",
       "      <td>348</td>\n",
       "      <td>66</td>\n",
       "      <td>CCs Nacho Cheese    175g</td>\n",
       "      <td>3</td>\n",
       "      <td>6.3</td>\n",
       "    </tr>\n",
       "    <tr>\n",
       "      <th>2</th>\n",
       "      <td>43605</td>\n",
       "      <td>1</td>\n",
       "      <td>1343</td>\n",
       "      <td>383</td>\n",
       "      <td>61</td>\n",
       "      <td>Smiths Crinkle Cut  Chips Chicken 170g</td>\n",
       "      <td>2</td>\n",
       "      <td>2.9</td>\n",
       "    </tr>\n",
       "    <tr>\n",
       "      <th>3</th>\n",
       "      <td>43329</td>\n",
       "      <td>2</td>\n",
       "      <td>2373</td>\n",
       "      <td>974</td>\n",
       "      <td>69</td>\n",
       "      <td>Smiths Chip Thinly  S/Cream&amp;Onion 175g</td>\n",
       "      <td>5</td>\n",
       "      <td>15.0</td>\n",
       "    </tr>\n",
       "    <tr>\n",
       "      <th>4</th>\n",
       "      <td>43330</td>\n",
       "      <td>2</td>\n",
       "      <td>2426</td>\n",
       "      <td>1038</td>\n",
       "      <td>108</td>\n",
       "      <td>Kettle Tortilla ChpsHny&amp;Jlpno Chili 150g</td>\n",
       "      <td>3</td>\n",
       "      <td>13.8</td>\n",
       "    </tr>\n",
       "  </tbody>\n",
       "</table>\n",
       "</div>"
      ],
      "text/plain": [
       "    DATE  STORE_NBR  LYLTY_CARD_NBR  TXN_ID  PROD_NBR   \n",
       "0  43390          1            1000       1         5  \\\n",
       "1  43599          1            1307     348        66   \n",
       "2  43605          1            1343     383        61   \n",
       "3  43329          2            2373     974        69   \n",
       "4  43330          2            2426    1038       108   \n",
       "\n",
       "                                  PROD_NAME  PROD_QTY  TOT_SALES  \n",
       "0    Natural Chip        Compny SeaSalt175g         2        6.0  \n",
       "1                  CCs Nacho Cheese    175g         3        6.3  \n",
       "2    Smiths Crinkle Cut  Chips Chicken 170g         2        2.9  \n",
       "3    Smiths Chip Thinly  S/Cream&Onion 175g         5       15.0  \n",
       "4  Kettle Tortilla ChpsHny&Jlpno Chili 150g         3       13.8  "
      ]
     },
     "execution_count": 317,
     "metadata": {},
     "output_type": "execute_result"
    }
   ],
   "source": [
    "transactions.head()"
   ]
  },
  {
   "cell_type": "code",
   "execution_count": 318,
   "metadata": {},
   "outputs": [
    {
     "name": "stdout",
     "output_type": "stream",
     "text": [
      "<class 'pandas.core.frame.DataFrame'>\n",
      "RangeIndex: 264836 entries, 0 to 264835\n",
      "Data columns (total 8 columns):\n",
      " #   Column          Non-Null Count   Dtype  \n",
      "---  ------          --------------   -----  \n",
      " 0   DATE            264836 non-null  int64  \n",
      " 1   STORE_NBR       264836 non-null  int64  \n",
      " 2   LYLTY_CARD_NBR  264836 non-null  int64  \n",
      " 3   TXN_ID          264836 non-null  int64  \n",
      " 4   PROD_NBR        264836 non-null  int64  \n",
      " 5   PROD_NAME       264836 non-null  object \n",
      " 6   PROD_QTY        264836 non-null  int64  \n",
      " 7   TOT_SALES       264836 non-null  float64\n",
      "dtypes: float64(1), int64(6), object(1)\n",
      "memory usage: 16.2+ MB\n"
     ]
    }
   ],
   "source": [
    "transactions.info()\n",
    "# No missing values"
   ]
  },
  {
   "cell_type": "code",
   "execution_count": 319,
   "metadata": {},
   "outputs": [
    {
     "data": {
      "text/html": [
       "<div>\n",
       "<style scoped>\n",
       "    .dataframe tbody tr th:only-of-type {\n",
       "        vertical-align: middle;\n",
       "    }\n",
       "\n",
       "    .dataframe tbody tr th {\n",
       "        vertical-align: top;\n",
       "    }\n",
       "\n",
       "    .dataframe thead th {\n",
       "        text-align: right;\n",
       "    }\n",
       "</style>\n",
       "<table border=\"1\" class=\"dataframe\">\n",
       "  <thead>\n",
       "    <tr style=\"text-align: right;\">\n",
       "      <th></th>\n",
       "      <th>DATE</th>\n",
       "      <th>STORE_NBR</th>\n",
       "      <th>LYLTY_CARD_NBR</th>\n",
       "      <th>TXN_ID</th>\n",
       "      <th>PROD_NBR</th>\n",
       "      <th>PROD_QTY</th>\n",
       "      <th>TOT_SALES</th>\n",
       "    </tr>\n",
       "  </thead>\n",
       "  <tbody>\n",
       "    <tr>\n",
       "      <th>count</th>\n",
       "      <td>264836.000000</td>\n",
       "      <td>264836.00000</td>\n",
       "      <td>2.648360e+05</td>\n",
       "      <td>2.648360e+05</td>\n",
       "      <td>264836.000000</td>\n",
       "      <td>264836.000000</td>\n",
       "      <td>264836.000000</td>\n",
       "    </tr>\n",
       "    <tr>\n",
       "      <th>mean</th>\n",
       "      <td>43464.036260</td>\n",
       "      <td>135.08011</td>\n",
       "      <td>1.355495e+05</td>\n",
       "      <td>1.351583e+05</td>\n",
       "      <td>56.583157</td>\n",
       "      <td>1.907309</td>\n",
       "      <td>7.304200</td>\n",
       "    </tr>\n",
       "    <tr>\n",
       "      <th>std</th>\n",
       "      <td>105.389282</td>\n",
       "      <td>76.78418</td>\n",
       "      <td>8.057998e+04</td>\n",
       "      <td>7.813303e+04</td>\n",
       "      <td>32.826638</td>\n",
       "      <td>0.643654</td>\n",
       "      <td>3.083226</td>\n",
       "    </tr>\n",
       "    <tr>\n",
       "      <th>min</th>\n",
       "      <td>43282.000000</td>\n",
       "      <td>1.00000</td>\n",
       "      <td>1.000000e+03</td>\n",
       "      <td>1.000000e+00</td>\n",
       "      <td>1.000000</td>\n",
       "      <td>1.000000</td>\n",
       "      <td>1.500000</td>\n",
       "    </tr>\n",
       "    <tr>\n",
       "      <th>25%</th>\n",
       "      <td>43373.000000</td>\n",
       "      <td>70.00000</td>\n",
       "      <td>7.002100e+04</td>\n",
       "      <td>6.760150e+04</td>\n",
       "      <td>28.000000</td>\n",
       "      <td>2.000000</td>\n",
       "      <td>5.400000</td>\n",
       "    </tr>\n",
       "    <tr>\n",
       "      <th>50%</th>\n",
       "      <td>43464.000000</td>\n",
       "      <td>130.00000</td>\n",
       "      <td>1.303575e+05</td>\n",
       "      <td>1.351375e+05</td>\n",
       "      <td>56.000000</td>\n",
       "      <td>2.000000</td>\n",
       "      <td>7.400000</td>\n",
       "    </tr>\n",
       "    <tr>\n",
       "      <th>75%</th>\n",
       "      <td>43555.000000</td>\n",
       "      <td>203.00000</td>\n",
       "      <td>2.030942e+05</td>\n",
       "      <td>2.027012e+05</td>\n",
       "      <td>85.000000</td>\n",
       "      <td>2.000000</td>\n",
       "      <td>9.200000</td>\n",
       "    </tr>\n",
       "    <tr>\n",
       "      <th>max</th>\n",
       "      <td>43646.000000</td>\n",
       "      <td>272.00000</td>\n",
       "      <td>2.373711e+06</td>\n",
       "      <td>2.415841e+06</td>\n",
       "      <td>114.000000</td>\n",
       "      <td>200.000000</td>\n",
       "      <td>650.000000</td>\n",
       "    </tr>\n",
       "  </tbody>\n",
       "</table>\n",
       "</div>"
      ],
      "text/plain": [
       "                DATE     STORE_NBR  LYLTY_CARD_NBR        TXN_ID   \n",
       "count  264836.000000  264836.00000    2.648360e+05  2.648360e+05  \\\n",
       "mean    43464.036260     135.08011    1.355495e+05  1.351583e+05   \n",
       "std       105.389282      76.78418    8.057998e+04  7.813303e+04   \n",
       "min     43282.000000       1.00000    1.000000e+03  1.000000e+00   \n",
       "25%     43373.000000      70.00000    7.002100e+04  6.760150e+04   \n",
       "50%     43464.000000     130.00000    1.303575e+05  1.351375e+05   \n",
       "75%     43555.000000     203.00000    2.030942e+05  2.027012e+05   \n",
       "max     43646.000000     272.00000    2.373711e+06  2.415841e+06   \n",
       "\n",
       "            PROD_NBR       PROD_QTY      TOT_SALES  \n",
       "count  264836.000000  264836.000000  264836.000000  \n",
       "mean       56.583157       1.907309       7.304200  \n",
       "std        32.826638       0.643654       3.083226  \n",
       "min         1.000000       1.000000       1.500000  \n",
       "25%        28.000000       2.000000       5.400000  \n",
       "50%        56.000000       2.000000       7.400000  \n",
       "75%        85.000000       2.000000       9.200000  \n",
       "max       114.000000     200.000000     650.000000  "
      ]
     },
     "execution_count": 319,
     "metadata": {},
     "output_type": "execute_result"
    }
   ],
   "source": [
    "transactions.describe()\n",
    "# We can see that the max value for PROD_QTY is 200, which is large."
   ]
  },
  {
   "cell_type": "code",
   "execution_count": 320,
   "metadata": {},
   "outputs": [
    {
     "data": {
      "text/html": [
       "<div>\n",
       "<style scoped>\n",
       "    .dataframe tbody tr th:only-of-type {\n",
       "        vertical-align: middle;\n",
       "    }\n",
       "\n",
       "    .dataframe tbody tr th {\n",
       "        vertical-align: top;\n",
       "    }\n",
       "\n",
       "    .dataframe thead th {\n",
       "        text-align: right;\n",
       "    }\n",
       "</style>\n",
       "<table border=\"1\" class=\"dataframe\">\n",
       "  <thead>\n",
       "    <tr style=\"text-align: right;\">\n",
       "      <th></th>\n",
       "      <th>PROD_NAME</th>\n",
       "    </tr>\n",
       "  </thead>\n",
       "  <tbody>\n",
       "    <tr>\n",
       "      <th>count</th>\n",
       "      <td>264836</td>\n",
       "    </tr>\n",
       "    <tr>\n",
       "      <th>unique</th>\n",
       "      <td>114</td>\n",
       "    </tr>\n",
       "    <tr>\n",
       "      <th>top</th>\n",
       "      <td>Kettle Mozzarella   Basil &amp; Pesto 175g</td>\n",
       "    </tr>\n",
       "    <tr>\n",
       "      <th>freq</th>\n",
       "      <td>3304</td>\n",
       "    </tr>\n",
       "  </tbody>\n",
       "</table>\n",
       "</div>"
      ],
      "text/plain": [
       "                                     PROD_NAME\n",
       "count                                   264836\n",
       "unique                                     114\n",
       "top     Kettle Mozzarella   Basil & Pesto 175g\n",
       "freq                                      3304"
      ]
     },
     "execution_count": 320,
     "metadata": {},
     "output_type": "execute_result"
    }
   ],
   "source": [
    "transactions.describe(include='object')"
   ]
  },
  {
   "cell_type": "markdown",
   "metadata": {},
   "source": [
    "---"
   ]
  },
  {
   "cell_type": "markdown",
   "metadata": {},
   "source": [
    "### Checking outliers"
   ]
  },
  {
   "cell_type": "code",
   "execution_count": null,
   "metadata": {},
   "outputs": [
    {
     "name": "stdout",
     "output_type": "stream",
     "text": [
      "[  2   3   5   1   4 200]\n"
     ]
    },
    {
     "data": {
      "text/html": [
       "<div>\n",
       "<style scoped>\n",
       "    .dataframe tbody tr th:only-of-type {\n",
       "        vertical-align: middle;\n",
       "    }\n",
       "\n",
       "    .dataframe tbody tr th {\n",
       "        vertical-align: top;\n",
       "    }\n",
       "\n",
       "    .dataframe thead th {\n",
       "        text-align: right;\n",
       "    }\n",
       "</style>\n",
       "<table border=\"1\" class=\"dataframe\">\n",
       "  <thead>\n",
       "    <tr style=\"text-align: right;\">\n",
       "      <th></th>\n",
       "      <th>DATE</th>\n",
       "      <th>STORE_NBR</th>\n",
       "      <th>LYLTY_CARD_NBR</th>\n",
       "      <th>TXN_ID</th>\n",
       "      <th>PROD_NBR</th>\n",
       "      <th>PROD_NAME</th>\n",
       "      <th>PROD_QTY</th>\n",
       "      <th>TOT_SALES</th>\n",
       "    </tr>\n",
       "  </thead>\n",
       "  <tbody>\n",
       "    <tr>\n",
       "      <th>64955</th>\n",
       "      <td>2018-08-19</td>\n",
       "      <td>226</td>\n",
       "      <td>226000</td>\n",
       "      <td>226201</td>\n",
       "      <td>4</td>\n",
       "      <td>Dorito Corn Chp     Supreme 380g</td>\n",
       "      <td>200</td>\n",
       "      <td>650.0</td>\n",
       "    </tr>\n",
       "    <tr>\n",
       "      <th>64956</th>\n",
       "      <td>2019-05-20</td>\n",
       "      <td>226</td>\n",
       "      <td>226000</td>\n",
       "      <td>226210</td>\n",
       "      <td>4</td>\n",
       "      <td>Dorito Corn Chp     Supreme 380g</td>\n",
       "      <td>200</td>\n",
       "      <td>650.0</td>\n",
       "    </tr>\n",
       "  </tbody>\n",
       "</table>\n",
       "</div>"
      ],
      "text/plain": [
       "            DATE  STORE_NBR  LYLTY_CARD_NBR  TXN_ID  PROD_NBR   \n",
       "64955 2018-08-19        226          226000  226201         4  \\\n",
       "64956 2019-05-20        226          226000  226210         4   \n",
       "\n",
       "                              PROD_NAME  PROD_QTY  TOT_SALES  \n",
       "64955  Dorito Corn Chp     Supreme 380g       200      650.0  \n",
       "64956  Dorito Corn Chp     Supreme 380g       200      650.0  "
      ]
     },
     "metadata": {},
     "output_type": "display_data"
    }
   ],
   "source": [
    "transactions.reset_index(drop=True, inplace=True)\n",
    "print(transactions.PROD_QTY.unique())\n",
    "# there are one unique value of 200, which is likely to be outliers\n",
    "transactions[transactions.PROD_QTY == 200]"
   ]
  },
  {
   "cell_type": "code",
   "execution_count": null,
   "metadata": {},
   "outputs": [
    {
     "data": {
      "text/html": [
       "<div>\n",
       "<style scoped>\n",
       "    .dataframe tbody tr th:only-of-type {\n",
       "        vertical-align: middle;\n",
       "    }\n",
       "\n",
       "    .dataframe tbody tr th {\n",
       "        vertical-align: top;\n",
       "    }\n",
       "\n",
       "    .dataframe thead th {\n",
       "        text-align: right;\n",
       "    }\n",
       "</style>\n",
       "<table border=\"1\" class=\"dataframe\">\n",
       "  <thead>\n",
       "    <tr style=\"text-align: right;\">\n",
       "      <th></th>\n",
       "      <th>DATE</th>\n",
       "      <th>STORE_NBR</th>\n",
       "      <th>LYLTY_CARD_NBR</th>\n",
       "      <th>TXN_ID</th>\n",
       "      <th>PROD_NBR</th>\n",
       "      <th>PROD_NAME</th>\n",
       "      <th>PROD_QTY</th>\n",
       "      <th>TOT_SALES</th>\n",
       "    </tr>\n",
       "  </thead>\n",
       "  <tbody>\n",
       "    <tr>\n",
       "      <th>64955</th>\n",
       "      <td>2018-08-19</td>\n",
       "      <td>226</td>\n",
       "      <td>226000</td>\n",
       "      <td>226201</td>\n",
       "      <td>4</td>\n",
       "      <td>Dorito Corn Chp     Supreme 380g</td>\n",
       "      <td>200</td>\n",
       "      <td>650.0</td>\n",
       "    </tr>\n",
       "    <tr>\n",
       "      <th>64956</th>\n",
       "      <td>2019-05-20</td>\n",
       "      <td>226</td>\n",
       "      <td>226000</td>\n",
       "      <td>226210</td>\n",
       "      <td>4</td>\n",
       "      <td>Dorito Corn Chp     Supreme 380g</td>\n",
       "      <td>200</td>\n",
       "      <td>650.0</td>\n",
       "    </tr>\n",
       "  </tbody>\n",
       "</table>\n",
       "</div>"
      ],
      "text/plain": [
       "            DATE  STORE_NBR  LYLTY_CARD_NBR  TXN_ID  PROD_NBR   \n",
       "64955 2018-08-19        226          226000  226201         4  \\\n",
       "64956 2019-05-20        226          226000  226210         4   \n",
       "\n",
       "                              PROD_NAME  PROD_QTY  TOT_SALES  \n",
       "64955  Dorito Corn Chp     Supreme 380g       200      650.0  \n",
       "64956  Dorito Corn Chp     Supreme 380g       200      650.0  "
      ]
     },
     "metadata": {},
     "output_type": "display_data"
    }
   ],
   "source": [
    "# checking the customer that made these transactions\n",
    "transactions[transactions.LYLTY_CARD_NBR == 226000]\n",
    "# it seems that the customer only made these two transactions, we can remove this customer"
   ]
  },
  {
   "cell_type": "code",
   "execution_count": null,
   "metadata": {},
   "outputs": [
    {
     "data": {
      "text/plain": [
       "array([2, 3, 5, 1, 4], dtype=int64)"
      ]
     },
     "metadata": {},
     "output_type": "display_data"
    }
   ],
   "source": [
    "# remove the outliers\n",
    "transactions = transactions[transactions.PROD_QTY != 200]\n",
    "# or transactions = transactions[transactions.LYLTY_CARD_NBR != 226000]\n",
    "transactions.reset_index(drop=True, inplace=True)\n",
    "transactions.PROD_QTY.unique()"
   ]
  },
  {
   "cell_type": "markdown",
   "metadata": {},
   "source": [
    "---"
   ]
  },
  {
   "cell_type": "markdown",
   "metadata": {},
   "source": [
    "### Converting datetime"
   ]
  },
  {
   "cell_type": "code",
   "execution_count": 322,
   "metadata": {},
   "outputs": [],
   "source": [
    "# Convert DATE column to datetime\n",
    "transactions.DATE = pd.to_datetime(transactions.DATE, unit='D', origin=datetime.date(1899, 12, 30))"
   ]
  },
  {
   "cell_type": "markdown",
   "metadata": {},
   "source": [
    "---"
   ]
  },
  {
   "cell_type": "markdown",
   "metadata": {},
   "source": [
    "### Examining false entries"
   ]
  },
  {
   "cell_type": "code",
   "execution_count": 323,
   "metadata": {},
   "outputs": [
    {
     "data": {
      "text/plain": [
       "array(['Natural', 'Chip', 'Compny', 'CCs', 'Nacho', 'Cheese', 'Smiths',\n",
       "       'Crinkle', 'Cut', 'Chips', 'Chicken', 'Thinly', 'Kettle',\n",
       "       'Tortilla', 'Chili', 'Old', 'El', 'Paso', 'Salsa', 'Dip', 'Tomato',\n",
       "       'Mild', 'Salt', 'Vinegar', 'Grain', 'Waves', 'Sweet', 'Chilli',\n",
       "       'Doritos', 'Corn', 'Mexican', 'Jalapeno', 'Sour', 'Sensations',\n",
       "       'Siracha', 'Lime', 'Twisties', 'WW', 'Thins', 'Tangy', 'Original',\n",
       "       'Burger', 'Rings', 'NCC', 'Cream', 'Garden', 'Chives', 'Southern',\n",
       "       'Cheezels', 'Box', 'Infzns', 'Crn', 'Crnchers', 'Gcamole', 'Sea',\n",
       "       'And', 'Red', 'Rock', 'Deli', 'Thai', 'Pringles', 'Sthrn',\n",
       "       'FriedChicken', 'BBQ', 'SR', 'Mzzrlla', 'Originl', 'saltd', 'Sp',\n",
       "       'Truffle', 'Swt', 'Mexicana', 'French', 'OnionDip', 'ChipCo',\n",
       "       'Hony', 'Soy', 'Dorito', 'Chp', 'Supreme', 'Roast', 'Mozzarella',\n",
       "       'Basil', 'Pesto', 'Infuzions', 'SweetChili', 'PotatoMix',\n",
       "       'Camembert', 'Fig', 'Smith', 'Mac', 'N', 'Honey',\n",
       "       'Seasonedchicken', 'Rib', 'Prawn', 'Crackers', 'GrnWves', 'Plus',\n",
       "       'Btroot', 'Jam', 'Tyrrells', 'Crisps', 'Lightly', 'Salted',\n",
       "       'Medium', 'Pot', 'SourCream', 'Onion', 'Chnky', 'Tom', 'Cobs',\n",
       "       'Popd', 'Woolworths', 'Co', 'Tmato', 'Fries', 'Potato', 'Med',\n",
       "       'RRD', 'Coconut', 'Hot', 'Spicy', 'Crm', 'Crnkle', 'Orgnl', 'Big',\n",
       "       'Bag', 'Crips', 'Stacked', 'Tostitos', 'Barbecue', 'Cheetos',\n",
       "       'Puffs', 'Splash', 'Of', 'Tasty', 'Smoked', 'Chipotle', 'Barbeque',\n",
       "       'Mystery', 'Flavour', 'Ched', 'Snbts', 'Whlgrn', 'Chs', 'Bacon',\n",
       "       'Balls', 'Slt', 'Vingar', 'Veg', 'Strws', 'Mango', 'Chutny',\n",
       "       'Papadums', 'Steak', 'Chimuchurri', 'Sunbites', 'Whlegrn',\n",
       "       'Pepper', 'Vinegr', 'Aioli', 'Slow', 'Rst', 'Pork', 'Belly', 'Pc',\n",
       "       'Bolognese'], dtype=object)"
      ]
     },
     "execution_count": 323,
     "metadata": {},
     "output_type": "execute_result"
    }
   ],
   "source": [
    "# create a list of individual words in PROD_NAME\n",
    "words = []\n",
    "for i in transactions.PROD_NAME:\n",
    "    words.append(i.split())\n",
    "# remove all words with digits and special characters such as '&' and '/'\n",
    "for i in range(len(words)):\n",
    "    words[i] = [word for word in words[i] if word.isalpha()]\n",
    "# flatten the list\n",
    "words = [word for sublist in words for word in sublist]\n",
    "pd.Series(words).unique()"
   ]
  },
  {
   "cell_type": "code",
   "execution_count": 365,
   "metadata": {},
   "outputs": [
    {
     "data": {
      "text/plain": [
       "Chips       49770\n",
       "Kettle      41288\n",
       "Smiths      28860\n",
       "Salt        27976\n",
       "Cheese      27890\n",
       "Pringles    25102\n",
       "Doritos     24962\n",
       "Crinkle     23960\n",
       "Corn        22063\n",
       "Original    21560\n",
       "Cut         20754\n",
       "Chip        18645\n",
       "Salsa       18094\n",
       "Chicken     15407\n",
       "Sea         14145\n",
       "Thins       14075\n",
       "Sour        13882\n",
       "Crisps      12607\n",
       "Vinegar     12402\n",
       "Chilli      12389\n",
       "Name: count, dtype: int64"
      ]
     },
     "execution_count": 365,
     "metadata": {},
     "output_type": "execute_result"
    }
   ],
   "source": [
    "pd.Series(words).value_counts().head(20)"
   ]
  },
  {
   "cell_type": "markdown",
   "metadata": {},
   "source": [
    "As we can see from the previous two codel cells, there are salsa products in the dataset, which is not the item of interest."
   ]
  },
  {
   "cell_type": "code",
   "execution_count": 325,
   "metadata": {},
   "outputs": [
    {
     "data": {
      "text/plain": [
       "(0, 8)"
      ]
     },
     "execution_count": 325,
     "metadata": {},
     "output_type": "execute_result"
    }
   ],
   "source": [
    "# remove salsa products\n",
    "transactions = transactions[~transactions.PROD_NAME.str.contains('Salsa')]\n",
    "# check if salsa products are removed\n",
    "transactions[transactions.PROD_NAME.str.contains('Salsa')].shape\n",
    "# salsa products are removed since the shape is (0, 8) which means there are 0 rows and 8 columns"
   ]
  },
  {
   "cell_type": "markdown",
   "metadata": {},
   "source": [
    "---"
   ]
  },
  {
   "cell_type": "markdown",
   "metadata": {},
   "source": [
    "### Missing dates"
   ]
  },
  {
   "cell_type": "code",
   "execution_count": 329,
   "metadata": {},
   "outputs": [
    {
     "data": {
      "text/plain": [
       "DATE\n",
       "2018-07-01    663\n",
       "2018-07-02    650\n",
       "2018-07-03    674\n",
       "2018-07-04    669\n",
       "2018-07-05    660\n",
       "             ... \n",
       "2019-06-26    657\n",
       "2019-06-27    669\n",
       "2019-06-28    673\n",
       "2019-06-29    703\n",
       "2019-06-30    704\n",
       "Name: count, Length: 364, dtype: int64"
      ]
     },
     "execution_count": 329,
     "metadata": {},
     "output_type": "execute_result"
    }
   ],
   "source": [
    "transactions.DATE.value_counts().sort_index()\n",
    "# the data is from 2018-07-01 to 2019-06-30 with 364 days in total, indicates that there is one day missing"
   ]
  },
  {
   "cell_type": "code",
   "execution_count": 330,
   "metadata": {},
   "outputs": [
    {
     "data": {
      "text/plain": [
       "DatetimeIndex(['2018-12-25'], dtype='datetime64[ns]', freq=None)"
      ]
     },
     "execution_count": 330,
     "metadata": {},
     "output_type": "execute_result"
    }
   ],
   "source": [
    "# find the missing date\n",
    "pd.date_range(start='2018-07-01', end='2019-06-30').difference(transactions.DATE)"
   ]
  },
  {
   "cell_type": "code",
   "execution_count": 331,
   "metadata": {},
   "outputs": [
    {
     "data": {
      "text/plain": [
       "DATE\n",
       "2018-12-20    808\n",
       "2018-12-21    781\n",
       "2018-12-22    840\n",
       "2018-12-23    853\n",
       "2018-12-24    865\n",
       "2018-12-26    700\n",
       "2018-12-27    690\n",
       "2018-12-28    669\n",
       "2018-12-29    666\n",
       "2018-12-30    686\n",
       "2018-12-31    650\n",
       "2019-01-01    634\n",
       "Name: count, dtype: int64"
      ]
     },
     "execution_count": 331,
     "metadata": {},
     "output_type": "execute_result"
    }
   ],
   "source": [
    "# double-check by zooming in on the date range from 2018-12-20 to 2019-01-01\n",
    "transactions.DATE[(transactions.DATE >= '2018-12-20') & (transactions.DATE <= '2019-01-01')].value_counts().sort_index()\n",
    "# there is indeed one day missing: 2018-12-25"
   ]
  },
  {
   "cell_type": "code",
   "execution_count": 333,
   "metadata": {},
   "outputs": [
    {
     "data": {
      "image/png": "[encoded data removed]",
      "text/plain": [
       "<Figure size 1440x360 with 2 Axes>"
      ]
     },
     "metadata": {
      "needs_background": "light"
     },
     "output_type": "display_data"
    }
   ],
   "source": [
    "# create a plot containing two subplots\n",
    "fig, ax = plt.subplots(1, 2, figsize=(20, 5))\n",
    "\n",
    "# we can also check the missing date by creating a chart of the number of transactions over time\n",
    "transactions.DATE.value_counts().sort_index().plot(ax=ax[0])\n",
    "\n",
    "# zoom in on the missing date\n",
    "transactions.DATE.value_counts().sort_index().plot(ax=ax[1])\n",
    "ax[1].set_xlim(pd.Timestamp('2018-12-20'), pd.Timestamp('2019-01-01'))\n",
    "\n",
    "plt.show()"
   ]
  },
  {
   "cell_type": "markdown",
   "metadata": {},
   "source": [
    "Looking at the visualisations, we can see a decrease from 2018-12-24 to 2018-12-26 without any break in the line lead to 2018-12-26, indicates that there are no sale made on 2018-12-25, the Christmas day. The descriptive statistics created before this also confirm this statement."
   ]
  },
  {
   "cell_type": "markdown",
   "metadata": {},
   "source": [
    "---"
   ]
  },
  {
   "cell_type": "markdown",
   "metadata": {},
   "source": [
    "### Creating new columns"
   ]
  },
  {
   "cell_type": "code",
   "execution_count": 334,
   "metadata": {},
   "outputs": [],
   "source": [
    "# create a column of pack size for each product\n",
    "transactions['PACK_SIZE'] = transactions.PROD_NAME.str.extract('(\\d+)')\n",
    "transactions.PACK_SIZE = transactions.PACK_SIZE.astype('int64')"
   ]
  },
  {
   "cell_type": "code",
   "execution_count": 335,
   "metadata": {},
   "outputs": [
    {
     "data": {
      "text/plain": [
       "0          Natural Chip        Compny SeaSalt\n",
       "1                            CCs Nacho Cheese\n",
       "2           Smiths Crinkle Cut  Chips Chicken\n",
       "3           Smiths Chip Thinly  S/Cream&Onion\n",
       "4         Kettle Tortilla ChpsHny&Jlpno Chili\n",
       "                         ...                 \n",
       "246735     Kettle Sweet Chilli And Sour Cream\n",
       "246736               Tostitos Splash Of  Lime\n",
       "246737                       Doritos Mexicana\n",
       "246738     Doritos Corn Chip Mexican Jalapeno\n",
       "246739               Tostitos Splash Of  Lime\n",
       "Name: PROD_NAME, Length: 246740, dtype: object"
      ]
     },
     "execution_count": 335,
     "metadata": {},
     "output_type": "execute_result"
    }
   ],
   "source": [
    "# remove the last 4 characters from PROD_NAME\n",
    "transactions.PROD_NAME = transactions.PROD_NAME.str[:-4]\n",
    "transactions.PROD_NAME = transactions.PROD_NAME.str.strip()\n",
    "transactions.PROD_NAME"
   ]
  },
  {
   "cell_type": "code",
   "execution_count": 336,
   "metadata": {},
   "outputs": [
    {
     "data": {
      "image/png": "[encoded data removed]",
      "text/plain": [
       "<Figure size 1080x504 with 1 Axes>"
      ]
     },
     "metadata": {
      "needs_background": "light"
     },
     "output_type": "display_data"
    }
   ],
   "source": [
    "# create a chart showing the number of transactions by pack size.\n",
    "ax = transactions.PACK_SIZE.value_counts().sort_index().plot(kind='bar', figsize=(15, 7))\n",
    "plt.xlabel('Pack Size')\n",
    "plt.ylabel('Number of Transactions')\n",
    "plt.title('Number of Transactions by Pack Size')\n",
    "ax.bar_label(ax.containers[0], label_type=\"edge\")\n",
    "plt.show()"
   ]
  },
  {
   "cell_type": "markdown",
   "metadata": {},
   "source": [
    "Based on the chart, we can see that there are 4 most popular pack sizes. In order, 175g, 150g, 134g, 110g"
   ]
  },
  {
   "cell_type": "code",
   "execution_count": 357,
   "metadata": {},
   "outputs": [
    {
     "data": {
      "text/plain": [
       "0          Natural Chip        Compny SeaSalt\n",
       "1                            CCs Nacho Cheese\n",
       "2           Smiths Crinkle Cut  Chips Chicken\n",
       "3           Smiths Chip Thinly  S/Cream&Onion\n",
       "4         Kettle Tortilla ChpsHny&Jlpno Chili\n",
       "                         ...                 \n",
       "246735     Kettle Sweet Chilli And Sour Cream\n",
       "246736               Tostitos Splash Of  Lime\n",
       "246737                       Doritos Mexicana\n",
       "246738     Doritos Corn Chip Mexican Jalapeno\n",
       "246739               Tostitos Splash Of  Lime\n",
       "Name: PROD_NAME, Length: 246740, dtype: object"
      ]
     },
     "execution_count": 357,
     "metadata": {},
     "output_type": "execute_result"
    }
   ],
   "source": [
    "transactions.PROD_NAME"
   ]
  },
  {
   "cell_type": "code",
   "execution_count": 366,
   "metadata": {},
   "outputs": [
    {
     "data": {
      "text/plain": [
       "BRAND\n",
       "Kettle        41288\n",
       "Smiths        30353\n",
       "Pringles      25102\n",
       "Doritos       22041\n",
       "Red           16321\n",
       "Infuzions     14201\n",
       "Thins         14075\n",
       "Woolworths    11836\n",
       "Cobs           9693\n",
       "Tostitos       9471\n",
       "Twisties       9454\n",
       "Grain          7740\n",
       "Natural        7469\n",
       "Tyrrells       6442\n",
       "Cheezels       4603\n",
       "CCs            4551\n",
       "Dorito         3183\n",
       "Sunbites       3008\n",
       "Cheetos        2927\n",
       "Burger         1564\n",
       "French         1418\n",
       "Name: count, dtype: int64"
      ]
     },
     "execution_count": 366,
     "metadata": {},
     "output_type": "execute_result"
    }
   ],
   "source": [
    "# create a column of brand name for each product\n",
    "dict = {'RRD': 'Red Rock Deli', 'WW': 'Woolworths', 'NCC': 'Natural Chip Co', r'\\bSmith\\b': 'Smiths', 'Infzns': 'Infuzions', 'Snbts': 'Sunbites',\n",
    "        'GrnWves':'Grain Waves'}\n",
    "transactions.PROD_NAME.replace(dict, regex=True, inplace=True)\n",
    "transactions['BRAND'] = transactions.PROD_NAME.str.split().str[0]\n",
    "transactions.BRAND.value_counts()"
   ]
  },
  {
   "cell_type": "code",
   "execution_count": 367,
   "metadata": {},
   "outputs": [
    {
     "data": {
      "text/html": [
       "<div>\n",
       "<style scoped>\n",
       "    .dataframe tbody tr th:only-of-type {\n",
       "        vertical-align: middle;\n",
       "    }\n",
       "\n",
       "    .dataframe tbody tr th {\n",
       "        vertical-align: top;\n",
       "    }\n",
       "\n",
       "    .dataframe thead th {\n",
       "        text-align: right;\n",
       "    }\n",
       "</style>\n",
       "<table border=\"1\" class=\"dataframe\">\n",
       "  <thead>\n",
       "    <tr style=\"text-align: right;\">\n",
       "      <th></th>\n",
       "      <th>DATE</th>\n",
       "      <th>STORE_NBR</th>\n",
       "      <th>LYLTY_CARD_NBR</th>\n",
       "      <th>TXN_ID</th>\n",
       "      <th>PROD_NBR</th>\n",
       "      <th>PROD_NAME</th>\n",
       "      <th>PROD_QTY</th>\n",
       "      <th>TOT_SALES</th>\n",
       "      <th>PACK_SIZE</th>\n",
       "      <th>BRAND</th>\n",
       "    </tr>\n",
       "  </thead>\n",
       "  <tbody>\n",
       "    <tr>\n",
       "      <th>0</th>\n",
       "      <td>2018-10-17</td>\n",
       "      <td>1</td>\n",
       "      <td>1000</td>\n",
       "      <td>1</td>\n",
       "      <td>5</td>\n",
       "      <td>Natural Chip        Compny SeaSalt</td>\n",
       "      <td>2</td>\n",
       "      <td>6.0</td>\n",
       "      <td>175</td>\n",
       "      <td>Natural</td>\n",
       "    </tr>\n",
       "    <tr>\n",
       "      <th>1</th>\n",
       "      <td>2019-05-14</td>\n",
       "      <td>1</td>\n",
       "      <td>1307</td>\n",
       "      <td>348</td>\n",
       "      <td>66</td>\n",
       "      <td>CCs Nacho Cheese</td>\n",
       "      <td>3</td>\n",
       "      <td>6.3</td>\n",
       "      <td>175</td>\n",
       "      <td>CCs</td>\n",
       "    </tr>\n",
       "    <tr>\n",
       "      <th>2</th>\n",
       "      <td>2019-05-20</td>\n",
       "      <td>1</td>\n",
       "      <td>1343</td>\n",
       "      <td>383</td>\n",
       "      <td>61</td>\n",
       "      <td>Smiths Crinkle Cut  Chips Chicken</td>\n",
       "      <td>2</td>\n",
       "      <td>2.9</td>\n",
       "      <td>170</td>\n",
       "      <td>Smiths</td>\n",
       "    </tr>\n",
       "    <tr>\n",
       "      <th>3</th>\n",
       "      <td>2018-08-17</td>\n",
       "      <td>2</td>\n",
       "      <td>2373</td>\n",
       "      <td>974</td>\n",
       "      <td>69</td>\n",
       "      <td>Smiths Chip Thinly  S/Cream&amp;Onion</td>\n",
       "      <td>5</td>\n",
       "      <td>15.0</td>\n",
       "      <td>175</td>\n",
       "      <td>Smiths</td>\n",
       "    </tr>\n",
       "    <tr>\n",
       "      <th>4</th>\n",
       "      <td>2018-08-18</td>\n",
       "      <td>2</td>\n",
       "      <td>2426</td>\n",
       "      <td>1038</td>\n",
       "      <td>108</td>\n",
       "      <td>Kettle Tortilla ChpsHny&amp;Jlpno Chili</td>\n",
       "      <td>3</td>\n",
       "      <td>13.8</td>\n",
       "      <td>150</td>\n",
       "      <td>Kettle</td>\n",
       "    </tr>\n",
       "    <tr>\n",
       "      <th>...</th>\n",
       "      <td>...</td>\n",
       "      <td>...</td>\n",
       "      <td>...</td>\n",
       "      <td>...</td>\n",
       "      <td>...</td>\n",
       "      <td>...</td>\n",
       "      <td>...</td>\n",
       "      <td>...</td>\n",
       "      <td>...</td>\n",
       "      <td>...</td>\n",
       "    </tr>\n",
       "    <tr>\n",
       "      <th>246735</th>\n",
       "      <td>2019-03-09</td>\n",
       "      <td>272</td>\n",
       "      <td>272319</td>\n",
       "      <td>270088</td>\n",
       "      <td>89</td>\n",
       "      <td>Kettle Sweet Chilli And Sour Cream</td>\n",
       "      <td>2</td>\n",
       "      <td>10.8</td>\n",
       "      <td>175</td>\n",
       "      <td>Kettle</td>\n",
       "    </tr>\n",
       "    <tr>\n",
       "      <th>246736</th>\n",
       "      <td>2018-08-13</td>\n",
       "      <td>272</td>\n",
       "      <td>272358</td>\n",
       "      <td>270154</td>\n",
       "      <td>74</td>\n",
       "      <td>Tostitos Splash Of  Lime</td>\n",
       "      <td>1</td>\n",
       "      <td>4.4</td>\n",
       "      <td>175</td>\n",
       "      <td>Tostitos</td>\n",
       "    </tr>\n",
       "    <tr>\n",
       "      <th>246737</th>\n",
       "      <td>2018-11-06</td>\n",
       "      <td>272</td>\n",
       "      <td>272379</td>\n",
       "      <td>270187</td>\n",
       "      <td>51</td>\n",
       "      <td>Doritos Mexicana</td>\n",
       "      <td>2</td>\n",
       "      <td>8.8</td>\n",
       "      <td>170</td>\n",
       "      <td>Doritos</td>\n",
       "    </tr>\n",
       "    <tr>\n",
       "      <th>246738</th>\n",
       "      <td>2018-12-27</td>\n",
       "      <td>272</td>\n",
       "      <td>272379</td>\n",
       "      <td>270188</td>\n",
       "      <td>42</td>\n",
       "      <td>Doritos Corn Chip Mexican Jalapeno</td>\n",
       "      <td>2</td>\n",
       "      <td>7.8</td>\n",
       "      <td>150</td>\n",
       "      <td>Doritos</td>\n",
       "    </tr>\n",
       "    <tr>\n",
       "      <th>246739</th>\n",
       "      <td>2018-09-22</td>\n",
       "      <td>272</td>\n",
       "      <td>272380</td>\n",
       "      <td>270189</td>\n",
       "      <td>74</td>\n",
       "      <td>Tostitos Splash Of  Lime</td>\n",
       "      <td>2</td>\n",
       "      <td>8.8</td>\n",
       "      <td>175</td>\n",
       "      <td>Tostitos</td>\n",
       "    </tr>\n",
       "  </tbody>\n",
       "</table>\n",
       "<p>246740 rows × 10 columns</p>\n",
       "</div>"
      ],
      "text/plain": [
       "             DATE  STORE_NBR  LYLTY_CARD_NBR  TXN_ID  PROD_NBR   \n",
       "0      2018-10-17          1            1000       1         5  \\\n",
       "1      2019-05-14          1            1307     348        66   \n",
       "2      2019-05-20          1            1343     383        61   \n",
       "3      2018-08-17          2            2373     974        69   \n",
       "4      2018-08-18          2            2426    1038       108   \n",
       "...           ...        ...             ...     ...       ...   \n",
       "246735 2019-03-09        272          272319  270088        89   \n",
       "246736 2018-08-13        272          272358  270154        74   \n",
       "246737 2018-11-06        272          272379  270187        51   \n",
       "246738 2018-12-27        272          272379  270188        42   \n",
       "246739 2018-09-22        272          272380  270189        74   \n",
       "\n",
       "                                  PROD_NAME  PROD_QTY  TOT_SALES  PACK_SIZE   \n",
       "0        Natural Chip        Compny SeaSalt         2        6.0        175  \\\n",
       "1                          CCs Nacho Cheese         3        6.3        175   \n",
       "2         Smiths Crinkle Cut  Chips Chicken         2        2.9        170   \n",
       "3         Smiths Chip Thinly  S/Cream&Onion         5       15.0        175   \n",
       "4       Kettle Tortilla ChpsHny&Jlpno Chili         3       13.8        150   \n",
       "...                                     ...       ...        ...        ...   \n",
       "246735   Kettle Sweet Chilli And Sour Cream         2       10.8        175   \n",
       "246736             Tostitos Splash Of  Lime         1        4.4        175   \n",
       "246737                     Doritos Mexicana         2        8.8        170   \n",
       "246738   Doritos Corn Chip Mexican Jalapeno         2        7.8        150   \n",
       "246739             Tostitos Splash Of  Lime         2        8.8        175   \n",
       "\n",
       "           BRAND  \n",
       "0        Natural  \n",
       "1            CCs  \n",
       "2         Smiths  \n",
       "3         Smiths  \n",
       "4         Kettle  \n",
       "...          ...  \n",
       "246735    Kettle  \n",
       "246736  Tostitos  \n",
       "246737   Doritos  \n",
       "246738   Doritos  \n",
       "246739  Tostitos  \n",
       "\n",
       "[246740 rows x 10 columns]"
      ]
     },
     "execution_count": 367,
     "metadata": {},
     "output_type": "execute_result"
    }
   ],
   "source": [
    "transactions"
   ]
  },
  {
   "cell_type": "markdown",
   "metadata": {},
   "source": [
    "## Examining customers data"
   ]
  },
  {
   "cell_type": "code",
   "execution_count": 368,
   "metadata": {},
   "outputs": [
    {
     "data": {
      "text/html": [
       "<div>\n",
       "<style scoped>\n",
       "    .dataframe tbody tr th:only-of-type {\n",
       "        vertical-align: middle;\n",
       "    }\n",
       "\n",
       "    .dataframe tbody tr th {\n",
       "        vertical-align: top;\n",
       "    }\n",
       "\n",
       "    .dataframe thead th {\n",
       "        text-align: right;\n",
       "    }\n",
       "</style>\n",
       "<table border=\"1\" class=\"dataframe\">\n",
       "  <thead>\n",
       "    <tr style=\"text-align: right;\">\n",
       "      <th></th>\n",
       "      <th>LYLTY_CARD_NBR</th>\n",
       "      <th>LIFESTAGE</th>\n",
       "      <th>PREMIUM_CUSTOMER</th>\n",
       "    </tr>\n",
       "  </thead>\n",
       "  <tbody>\n",
       "    <tr>\n",
       "      <th>0</th>\n",
       "      <td>1000</td>\n",
       "      <td>YOUNG SINGLES/COUPLES</td>\n",
       "      <td>Premium</td>\n",
       "    </tr>\n",
       "    <tr>\n",
       "      <th>1</th>\n",
       "      <td>1002</td>\n",
       "      <td>YOUNG SINGLES/COUPLES</td>\n",
       "      <td>Mainstream</td>\n",
       "    </tr>\n",
       "    <tr>\n",
       "      <th>2</th>\n",
       "      <td>1003</td>\n",
       "      <td>YOUNG FAMILIES</td>\n",
       "      <td>Budget</td>\n",
       "    </tr>\n",
       "    <tr>\n",
       "      <th>3</th>\n",
       "      <td>1004</td>\n",
       "      <td>OLDER SINGLES/COUPLES</td>\n",
       "      <td>Mainstream</td>\n",
       "    </tr>\n",
       "    <tr>\n",
       "      <th>4</th>\n",
       "      <td>1005</td>\n",
       "      <td>MIDAGE SINGLES/COUPLES</td>\n",
       "      <td>Mainstream</td>\n",
       "    </tr>\n",
       "  </tbody>\n",
       "</table>\n",
       "</div>"
      ],
      "text/plain": [
       "   LYLTY_CARD_NBR               LIFESTAGE PREMIUM_CUSTOMER\n",
       "0            1000   YOUNG SINGLES/COUPLES          Premium\n",
       "1            1002   YOUNG SINGLES/COUPLES       Mainstream\n",
       "2            1003          YOUNG FAMILIES           Budget\n",
       "3            1004   OLDER SINGLES/COUPLES       Mainstream\n",
       "4            1005  MIDAGE SINGLES/COUPLES       Mainstream"
      ]
     },
     "execution_count": 368,
     "metadata": {},
     "output_type": "execute_result"
    }
   ],
   "source": [
    "customers.head()"
   ]
  },
  {
   "cell_type": "code",
   "execution_count": 369,
   "metadata": {},
   "outputs": [
    {
     "name": "stdout",
     "output_type": "stream",
     "text": [
      "<class 'pandas.core.frame.DataFrame'>\n",
      "RangeIndex: 72637 entries, 0 to 72636\n",
      "Data columns (total 3 columns):\n",
      " #   Column            Non-Null Count  Dtype \n",
      "---  ------            --------------  ----- \n",
      " 0   LYLTY_CARD_NBR    72637 non-null  int64 \n",
      " 1   LIFESTAGE         72637 non-null  object\n",
      " 2   PREMIUM_CUSTOMER  72637 non-null  object\n",
      "dtypes: int64(1), object(2)\n",
      "memory usage: 1.7+ MB\n"
     ]
    }
   ],
   "source": [
    "customers.info()\n",
    "# No missing values"
   ]
  },
  {
   "cell_type": "code",
   "execution_count": 371,
   "metadata": {},
   "outputs": [
    {
     "data": {
      "text/html": [
       "<div>\n",
       "<style scoped>\n",
       "    .dataframe tbody tr th:only-of-type {\n",
       "        vertical-align: middle;\n",
       "    }\n",
       "\n",
       "    .dataframe tbody tr th {\n",
       "        vertical-align: top;\n",
       "    }\n",
       "\n",
       "    .dataframe thead th {\n",
       "        text-align: right;\n",
       "    }\n",
       "</style>\n",
       "<table border=\"1\" class=\"dataframe\">\n",
       "  <thead>\n",
       "    <tr style=\"text-align: right;\">\n",
       "      <th></th>\n",
       "      <th>LYLTY_CARD_NBR</th>\n",
       "      <th>LIFESTAGE</th>\n",
       "      <th>PREMIUM_CUSTOMER</th>\n",
       "    </tr>\n",
       "  </thead>\n",
       "  <tbody>\n",
       "    <tr>\n",
       "      <th>count</th>\n",
       "      <td>7.263700e+04</td>\n",
       "      <td>72637</td>\n",
       "      <td>72637</td>\n",
       "    </tr>\n",
       "    <tr>\n",
       "      <th>unique</th>\n",
       "      <td>NaN</td>\n",
       "      <td>7</td>\n",
       "      <td>3</td>\n",
       "    </tr>\n",
       "    <tr>\n",
       "      <th>top</th>\n",
       "      <td>NaN</td>\n",
       "      <td>RETIREES</td>\n",
       "      <td>Mainstream</td>\n",
       "    </tr>\n",
       "    <tr>\n",
       "      <th>freq</th>\n",
       "      <td>NaN</td>\n",
       "      <td>14805</td>\n",
       "      <td>29245</td>\n",
       "    </tr>\n",
       "    <tr>\n",
       "      <th>mean</th>\n",
       "      <td>1.361859e+05</td>\n",
       "      <td>NaN</td>\n",
       "      <td>NaN</td>\n",
       "    </tr>\n",
       "    <tr>\n",
       "      <th>std</th>\n",
       "      <td>8.989293e+04</td>\n",
       "      <td>NaN</td>\n",
       "      <td>NaN</td>\n",
       "    </tr>\n",
       "    <tr>\n",
       "      <th>min</th>\n",
       "      <td>1.000000e+03</td>\n",
       "      <td>NaN</td>\n",
       "      <td>NaN</td>\n",
       "    </tr>\n",
       "    <tr>\n",
       "      <th>25%</th>\n",
       "      <td>6.620200e+04</td>\n",
       "      <td>NaN</td>\n",
       "      <td>NaN</td>\n",
       "    </tr>\n",
       "    <tr>\n",
       "      <th>50%</th>\n",
       "      <td>1.340400e+05</td>\n",
       "      <td>NaN</td>\n",
       "      <td>NaN</td>\n",
       "    </tr>\n",
       "    <tr>\n",
       "      <th>75%</th>\n",
       "      <td>2.033750e+05</td>\n",
       "      <td>NaN</td>\n",
       "      <td>NaN</td>\n",
       "    </tr>\n",
       "    <tr>\n",
       "      <th>max</th>\n",
       "      <td>2.373711e+06</td>\n",
       "      <td>NaN</td>\n",
       "      <td>NaN</td>\n",
       "    </tr>\n",
       "  </tbody>\n",
       "</table>\n",
       "</div>"
      ],
      "text/plain": [
       "        LYLTY_CARD_NBR LIFESTAGE PREMIUM_CUSTOMER\n",
       "count     7.263700e+04     72637            72637\n",
       "unique             NaN         7                3\n",
       "top                NaN  RETIREES       Mainstream\n",
       "freq               NaN     14805            29245\n",
       "mean      1.361859e+05       NaN              NaN\n",
       "std       8.989293e+04       NaN              NaN\n",
       "min       1.000000e+03       NaN              NaN\n",
       "25%       6.620200e+04       NaN              NaN\n",
       "50%       1.340400e+05       NaN              NaN\n",
       "75%       2.033750e+05       NaN              NaN\n",
       "max       2.373711e+06       NaN              NaN"
      ]
     },
     "execution_count": 371,
     "metadata": {},
     "output_type": "execute_result"
    }
   ],
   "source": [
    "customers.describe(include='all')"
   ]
  },
  {
   "cell_type": "code",
   "execution_count": 372,
   "metadata": {},
   "outputs": [
    {
     "data": {
      "text/plain": [
       "LYLTY_CARD_NBR\n",
       "1000       1\n",
       "181211     1\n",
       "181217     1\n",
       "181216     1\n",
       "181215     1\n",
       "          ..\n",
       "88126      1\n",
       "88127      1\n",
       "88128      1\n",
       "88129      1\n",
       "2373711    1\n",
       "Name: count, Length: 72637, dtype: int64"
      ]
     },
     "execution_count": 372,
     "metadata": {},
     "output_type": "execute_result"
    }
   ],
   "source": [
    "customers.LYLTY_CARD_NBR.value_counts()\n",
    "# There are 72637 unique customers, with no duplicates"
   ]
  },
  {
   "cell_type": "code",
   "execution_count": 373,
   "metadata": {},
   "outputs": [
    {
     "data": {
      "text/plain": [
       "LIFESTAGE\n",
       "RETIREES                  14805\n",
       "OLDER SINGLES/COUPLES     14609\n",
       "YOUNG SINGLES/COUPLES     14441\n",
       "OLDER FAMILIES             9780\n",
       "YOUNG FAMILIES             9178\n",
       "MIDAGE SINGLES/COUPLES     7275\n",
       "NEW FAMILIES               2549\n",
       "Name: count, dtype: int64"
      ]
     },
     "execution_count": 373,
     "metadata": {},
     "output_type": "execute_result"
    }
   ],
   "source": [
    "customers.LIFESTAGE.value_counts()\n",
    "# There are 7 unique lifestages"
   ]
  },
  {
   "cell_type": "code",
   "execution_count": 374,
   "metadata": {},
   "outputs": [
    {
     "data": {
      "text/plain": [
       "PREMIUM_CUSTOMER\n",
       "Mainstream    29245\n",
       "Budget        24470\n",
       "Premium       18922\n",
       "Name: count, dtype: int64"
      ]
     },
     "execution_count": 374,
     "metadata": {},
     "output_type": "execute_result"
    }
   ],
   "source": [
    "customers.PREMIUM_CUSTOMER.value_counts()\n",
    "# There are 3 unique premium customers"
   ]
  },
  {
   "cell_type": "markdown",
   "metadata": {},
   "source": [
    "We can see that there are 3 unique premium customers and 7 unique lifestages, which means there are 21 unique customer segments"
   ]
  },
  {
   "cell_type": "code",
   "execution_count": 379,
   "metadata": {},
   "outputs": [
    {
     "data": {
      "text/html": [
       "<div>\n",
       "<style scoped>\n",
       "    .dataframe tbody tr th:only-of-type {\n",
       "        vertical-align: middle;\n",
       "    }\n",
       "\n",
       "    .dataframe tbody tr th {\n",
       "        vertical-align: top;\n",
       "    }\n",
       "\n",
       "    .dataframe thead th {\n",
       "        text-align: right;\n",
       "    }\n",
       "</style>\n",
       "<table border=\"1\" class=\"dataframe\">\n",
       "  <thead>\n",
       "    <tr style=\"text-align: right;\">\n",
       "      <th></th>\n",
       "      <th>DATE</th>\n",
       "      <th>STORE_NBR</th>\n",
       "      <th>LYLTY_CARD_NBR</th>\n",
       "      <th>TXN_ID</th>\n",
       "      <th>PROD_NBR</th>\n",
       "      <th>PROD_NAME</th>\n",
       "      <th>PROD_QTY</th>\n",
       "      <th>TOT_SALES</th>\n",
       "      <th>PACK_SIZE</th>\n",
       "      <th>BRAND</th>\n",
       "      <th>LIFESTAGE</th>\n",
       "      <th>PREMIUM_CUSTOMER</th>\n",
       "    </tr>\n",
       "  </thead>\n",
       "  <tbody>\n",
       "    <tr>\n",
       "      <th>0</th>\n",
       "      <td>2018-10-17</td>\n",
       "      <td>1</td>\n",
       "      <td>1000</td>\n",
       "      <td>1</td>\n",
       "      <td>5</td>\n",
       "      <td>Natural Chip        Compny SeaSalt</td>\n",
       "      <td>2</td>\n",
       "      <td>6.0</td>\n",
       "      <td>175</td>\n",
       "      <td>Natural</td>\n",
       "      <td>YOUNG SINGLES/COUPLES</td>\n",
       "      <td>Premium</td>\n",
       "    </tr>\n",
       "    <tr>\n",
       "      <th>1</th>\n",
       "      <td>2019-05-14</td>\n",
       "      <td>1</td>\n",
       "      <td>1307</td>\n",
       "      <td>348</td>\n",
       "      <td>66</td>\n",
       "      <td>CCs Nacho Cheese</td>\n",
       "      <td>3</td>\n",
       "      <td>6.3</td>\n",
       "      <td>175</td>\n",
       "      <td>CCs</td>\n",
       "      <td>MIDAGE SINGLES/COUPLES</td>\n",
       "      <td>Budget</td>\n",
       "    </tr>\n",
       "    <tr>\n",
       "      <th>2</th>\n",
       "      <td>2019-05-20</td>\n",
       "      <td>1</td>\n",
       "      <td>1343</td>\n",
       "      <td>383</td>\n",
       "      <td>61</td>\n",
       "      <td>Smiths Crinkle Cut  Chips Chicken</td>\n",
       "      <td>2</td>\n",
       "      <td>2.9</td>\n",
       "      <td>170</td>\n",
       "      <td>Smiths</td>\n",
       "      <td>MIDAGE SINGLES/COUPLES</td>\n",
       "      <td>Budget</td>\n",
       "    </tr>\n",
       "    <tr>\n",
       "      <th>3</th>\n",
       "      <td>2018-08-17</td>\n",
       "      <td>2</td>\n",
       "      <td>2373</td>\n",
       "      <td>974</td>\n",
       "      <td>69</td>\n",
       "      <td>Smiths Chip Thinly  S/Cream&amp;Onion</td>\n",
       "      <td>5</td>\n",
       "      <td>15.0</td>\n",
       "      <td>175</td>\n",
       "      <td>Smiths</td>\n",
       "      <td>MIDAGE SINGLES/COUPLES</td>\n",
       "      <td>Budget</td>\n",
       "    </tr>\n",
       "    <tr>\n",
       "      <th>4</th>\n",
       "      <td>2018-08-18</td>\n",
       "      <td>2</td>\n",
       "      <td>2426</td>\n",
       "      <td>1038</td>\n",
       "      <td>108</td>\n",
       "      <td>Kettle Tortilla ChpsHny&amp;Jlpno Chili</td>\n",
       "      <td>3</td>\n",
       "      <td>13.8</td>\n",
       "      <td>150</td>\n",
       "      <td>Kettle</td>\n",
       "      <td>MIDAGE SINGLES/COUPLES</td>\n",
       "      <td>Budget</td>\n",
       "    </tr>\n",
       "  </tbody>\n",
       "</table>\n",
       "</div>"
      ],
      "text/plain": [
       "        DATE  STORE_NBR  LYLTY_CARD_NBR  TXN_ID  PROD_NBR   \n",
       "0 2018-10-17          1            1000       1         5  \\\n",
       "1 2019-05-14          1            1307     348        66   \n",
       "2 2019-05-20          1            1343     383        61   \n",
       "3 2018-08-17          2            2373     974        69   \n",
       "4 2018-08-18          2            2426    1038       108   \n",
       "\n",
       "                             PROD_NAME  PROD_QTY  TOT_SALES  PACK_SIZE   \n",
       "0   Natural Chip        Compny SeaSalt         2        6.0        175  \\\n",
       "1                     CCs Nacho Cheese         3        6.3        175   \n",
       "2    Smiths Crinkle Cut  Chips Chicken         2        2.9        170   \n",
       "3    Smiths Chip Thinly  S/Cream&Onion         5       15.0        175   \n",
       "4  Kettle Tortilla ChpsHny&Jlpno Chili         3       13.8        150   \n",
       "\n",
       "     BRAND               LIFESTAGE PREMIUM_CUSTOMER  \n",
       "0  Natural   YOUNG SINGLES/COUPLES          Premium  \n",
       "1      CCs  MIDAGE SINGLES/COUPLES           Budget  \n",
       "2   Smiths  MIDAGE SINGLES/COUPLES           Budget  \n",
       "3   Smiths  MIDAGE SINGLES/COUPLES           Budget  \n",
       "4   Kettle  MIDAGE SINGLES/COUPLES           Budget  "
      ]
     },
     "execution_count": 379,
     "metadata": {},
     "output_type": "execute_result"
    }
   ],
   "source": [
    "# merge the two datasets, keeping all the rows of transactions on the left and find rows with matching values from customers on the right\n",
    "data = pd.merge(transactions, customers, on='LYLTY_CARD_NBR', how='left')\n",
    "data.head()"
   ]
  },
  {
   "cell_type": "code",
   "execution_count": 380,
   "metadata": {},
   "outputs": [
    {
     "data": {
      "text/plain": [
       "DATE                0\n",
       "STORE_NBR           0\n",
       "LYLTY_CARD_NBR      0\n",
       "TXN_ID              0\n",
       "PROD_NBR            0\n",
       "PROD_NAME           0\n",
       "PROD_QTY            0\n",
       "TOT_SALES           0\n",
       "PACK_SIZE           0\n",
       "BRAND               0\n",
       "LIFESTAGE           0\n",
       "PREMIUM_CUSTOMER    0\n",
       "dtype: int64"
      ]
     },
     "execution_count": 380,
     "metadata": {},
     "output_type": "execute_result"
    }
   ],
   "source": [
    "# Check on any missing values\n",
    "data.isnull().sum()\n",
    "# There are 0 missing values"
   ]
  },
  {
   "cell_type": "code",
   "execution_count": 381,
   "metadata": {},
   "outputs": [],
   "source": [
    "# Export the data to a csv file\n",
    "data.to_csv('data.csv', index=False)"
   ]
  },
  {
   "cell_type": "markdown",
   "metadata": {},
   "source": [
    "---"
   ]
  },
  {
   "cell_type": "markdown",
   "metadata": {},
   "source": [
    "# Data Analysis"
   ]
  },
  {
   "cell_type": "markdown",
   "metadata": {},
   "source": [
    "## Who spends the most on chips (total sales)? Their lifestages, and general purchasing behaviour?"
   ]
  },
  {
   "cell_type": "code",
   "execution_count": 401,
   "metadata": {},
   "outputs": [
    {
     "data": {
      "text/html": [
       "<div>\n",
       "<style scoped>\n",
       "    .dataframe tbody tr th:only-of-type {\n",
       "        vertical-align: middle;\n",
       "    }\n",
       "\n",
       "    .dataframe tbody tr th {\n",
       "        vertical-align: top;\n",
       "    }\n",
       "\n",
       "    .dataframe thead th {\n",
       "        text-align: right;\n",
       "    }\n",
       "</style>\n",
       "<table border=\"1\" class=\"dataframe\">\n",
       "  <thead>\n",
       "    <tr style=\"text-align: right;\">\n",
       "      <th></th>\n",
       "      <th>TOT_SALES</th>\n",
       "      <th>LIFESTAGE</th>\n",
       "      <th>PREMIUM_CUSTOMER</th>\n",
       "    </tr>\n",
       "    <tr>\n",
       "      <th>LYLTY_CARD_NBR</th>\n",
       "      <th></th>\n",
       "      <th></th>\n",
       "      <th></th>\n",
       "    </tr>\n",
       "  </thead>\n",
       "  <tbody>\n",
       "    <tr>\n",
       "      <th>230078</th>\n",
       "      <td>138.6</td>\n",
       "      <td>OLDER FAMILIES</td>\n",
       "      <td>Budget</td>\n",
       "    </tr>\n",
       "    <tr>\n",
       "      <th>58361</th>\n",
       "      <td>124.8</td>\n",
       "      <td>YOUNG FAMILIES</td>\n",
       "      <td>Budget</td>\n",
       "    </tr>\n",
       "    <tr>\n",
       "      <th>63197</th>\n",
       "      <td>122.6</td>\n",
       "      <td>OLDER FAMILIES</td>\n",
       "      <td>Budget</td>\n",
       "    </tr>\n",
       "    <tr>\n",
       "      <th>162039</th>\n",
       "      <td>121.6</td>\n",
       "      <td>OLDER FAMILIES</td>\n",
       "      <td>Mainstream</td>\n",
       "    </tr>\n",
       "    <tr>\n",
       "      <th>179228</th>\n",
       "      <td>120.8</td>\n",
       "      <td>YOUNG FAMILIES</td>\n",
       "      <td>Budget</td>\n",
       "    </tr>\n",
       "    <tr>\n",
       "      <th>...</th>\n",
       "      <td>...</td>\n",
       "      <td>...</td>\n",
       "      <td>...</td>\n",
       "    </tr>\n",
       "    <tr>\n",
       "      <th>48155</th>\n",
       "      <td>100.7</td>\n",
       "      <td>OLDER SINGLES/COUPLES</td>\n",
       "      <td>Budget</td>\n",
       "    </tr>\n",
       "    <tr>\n",
       "      <th>209155</th>\n",
       "      <td>100.6</td>\n",
       "      <td>YOUNG FAMILIES</td>\n",
       "      <td>Budget</td>\n",
       "    </tr>\n",
       "    <tr>\n",
       "      <th>67109</th>\n",
       "      <td>100.4</td>\n",
       "      <td>RETIREES</td>\n",
       "      <td>Premium</td>\n",
       "    </tr>\n",
       "    <tr>\n",
       "      <th>226215</th>\n",
       "      <td>100.4</td>\n",
       "      <td>OLDER FAMILIES</td>\n",
       "      <td>Premium</td>\n",
       "    </tr>\n",
       "    <tr>\n",
       "      <th>138222</th>\n",
       "      <td>100.3</td>\n",
       "      <td>OLDER FAMILIES</td>\n",
       "      <td>Budget</td>\n",
       "    </tr>\n",
       "  </tbody>\n",
       "</table>\n",
       "<p>72 rows × 3 columns</p>\n",
       "</div>"
      ],
      "text/plain": [
       "                TOT_SALES              LIFESTAGE PREMIUM_CUSTOMER\n",
       "LYLTY_CARD_NBR                                                   \n",
       "230078              138.6         OLDER FAMILIES           Budget\n",
       "58361               124.8         YOUNG FAMILIES           Budget\n",
       "63197               122.6         OLDER FAMILIES           Budget\n",
       "162039              121.6         OLDER FAMILIES       Mainstream\n",
       "179228              120.8         YOUNG FAMILIES           Budget\n",
       "...                   ...                    ...              ...\n",
       "48155               100.7  OLDER SINGLES/COUPLES           Budget\n",
       "209155              100.6         YOUNG FAMILIES           Budget\n",
       "67109               100.4               RETIREES          Premium\n",
       "226215              100.4         OLDER FAMILIES          Premium\n",
       "138222              100.3         OLDER FAMILIES           Budget\n",
       "\n",
       "[72 rows x 3 columns]"
      ]
     },
     "execution_count": 401,
     "metadata": {},
     "output_type": "execute_result"
    }
   ],
   "source": [
    "sales_by_cus = data.groupby('LYLTY_CARD_NBR')[['TOT_SALES','LIFESTAGE', 'PREMIUM_CUSTOMER']].agg({'TOT_SALES': 'sum', 'LIFESTAGE': 'first', 'PREMIUM_CUSTOMER': 'first'}).sort_values(by='TOT_SALES', ascending=False)\n",
    "# create a dataframe of total sales larger than 100 dollars\n",
    "sales_larger_than_100 = sales_by_cus[sales_by_cus.TOT_SALES > 100]\n",
    "sales_larger_than_100"
   ]
  },
  {
   "cell_type": "markdown",
   "metadata": {},
   "source": [
    "Based on the table above, we can see that the highest customer spent 138.6 dollars in total and the customer is from the 'OLDER FAMILIES' lifestage and belongs to the 'Budget' customer segment."
   ]
  },
  {
   "cell_type": "code",
   "execution_count": 406,
   "metadata": {},
   "outputs": [
    {
     "data": {
      "text/plain": [
       "PREMIUM_CUSTOMER  LIFESTAGE             \n",
       "Budget            OLDER FAMILIES            11\n",
       "                  OLDER SINGLES/COUPLES      5\n",
       "                  RETIREES                   3\n",
       "                  YOUNG FAMILIES            15\n",
       "                  YOUNG SINGLES/COUPLES      2\n",
       "Mainstream        MIDAGE SINGLES/COUPLES     1\n",
       "                  OLDER FAMILIES             8\n",
       "                  OLDER SINGLES/COUPLES      2\n",
       "                  YOUNG FAMILIES             2\n",
       "                  YOUNG SINGLES/COUPLES      4\n",
       "Premium           MIDAGE SINGLES/COUPLES     3\n",
       "                  OLDER FAMILIES             3\n",
       "                  OLDER SINGLES/COUPLES      6\n",
       "                  RETIREES                   1\n",
       "                  YOUNG FAMILIES             4\n",
       "                  YOUNG SINGLES/COUPLES      2\n",
       "Name: count, dtype: int64"
      ]
     },
     "execution_count": 406,
     "metadata": {},
     "output_type": "execute_result"
    }
   ],
   "source": [
    "sales_larger_than_100[['PREMIUM_CUSTOMER','LIFESTAGE']].value_counts().sort_index()"
   ]
  },
  {
   "cell_type": "markdown",
   "metadata": {},
   "source": [
    "The two aforementioned keywords are also the second most frequent customer segment, with the highest being the 'YOUNG FAMILIES' and 'Budget' segment."
   ]
  },
  {
   "cell_type": "markdown",
   "metadata": {},
   "source": [
    "---"
   ]
  },
  {
   "cell_type": "markdown",
   "metadata": {},
   "source": [
    "## How many customers are in each segment?"
   ]
  },
  {
   "cell_type": "code",
   "execution_count": 414,
   "metadata": {},
   "outputs": [
    {
     "data": {
      "text/plain": [
       "PREMIUM_CUSTOMER\n",
       "Budget        86762\n",
       "Mainstream    95043\n",
       "Premium       64935\n",
       "Name: LYLTY_CARD_NBR, dtype: int64"
      ]
     },
     "execution_count": 414,
     "metadata": {},
     "output_type": "execute_result"
    }
   ],
   "source": [
    "cus_by_seg = data.groupby(['PREMIUM_CUSTOMER','LIFESTAGE'])['LYLTY_CARD_NBR'].count()\n",
    "# calculating the total of customers of each premium customer segment\n",
    "cus_by_seg.groupby('PREMIUM_CUSTOMER').sum()"
   ]
  },
  {
   "cell_type": "code",
   "execution_count": 412,
   "metadata": {},
   "outputs": [
    {
     "data": {
      "text/plain": [
       "PREMIUM_CUSTOMER  LIFESTAGE             \n",
       "Budget            OLDER FAMILIES            21514\n",
       "Mainstream        RETIREES                  19970\n",
       "                  YOUNG SINGLES/COUPLES     19544\n",
       "Budget            YOUNG FAMILIES            17763\n",
       "                  OLDER SINGLES/COUPLES     17172\n",
       "Mainstream        OLDER SINGLES/COUPLES     17061\n",
       "Premium           OLDER SINGLES/COUPLES     16560\n",
       "Budget            RETIREES                  14225\n",
       "Mainstream        OLDER FAMILIES            13241\n",
       "Premium           RETIREES                  12236\n",
       "Mainstream        YOUNG FAMILIES            11947\n",
       "                  MIDAGE SINGLES/COUPLES    11095\n",
       "Premium           YOUNG FAMILIES            10784\n",
       "                  OLDER FAMILIES            10403\n",
       "Budget            YOUNG SINGLES/COUPLES      8573\n",
       "Premium           MIDAGE SINGLES/COUPLES     7612\n",
       "                  YOUNG SINGLES/COUPLES      5852\n",
       "Budget            MIDAGE SINGLES/COUPLES     4691\n",
       "                  NEW FAMILIES               2824\n",
       "Mainstream        NEW FAMILIES               2185\n",
       "Premium           NEW FAMILIES               1488\n",
       "Name: LYLTY_CARD_NBR, dtype: int64"
      ]
     },
     "execution_count": 412,
     "metadata": {},
     "output_type": "execute_result"
    }
   ],
   "source": [
    "cus_by_seg.sort_values(ascending=False)"
   ]
  },
  {
   "cell_type": "markdown",
   "metadata": {},
   "source": [
    "Based on the above descriptive statistics, some findings are:\n",
    "- The top 3 segments are Budget - Older Families, Mainstream - Retirees, and Mainstream - Young Singles/Couples\n",
    "- The bottom 3 segments are all NEW FAMILIES"
   ]
  },
  {
   "cell_type": "markdown",
   "metadata": {},
   "source": [
    "---"
   ]
  },
  {
   "cell_type": "markdown",
   "metadata": {},
   "source": [
    "## How many chips are bought per customer by segment?"
   ]
  },
  {
   "cell_type": "code",
   "execution_count": 415,
   "metadata": {},
   "outputs": [
    {
     "data": {
      "text/plain": [
       "PREMIUM_CUSTOMER\n",
       "Budget        165774\n",
       "Mainstream    180780\n",
       "Premium       123845\n",
       "Name: PROD_QTY, dtype: int64"
      ]
     },
     "execution_count": 415,
     "metadata": {},
     "output_type": "execute_result"
    }
   ],
   "source": [
    "chip_by_seg = data.groupby(['PREMIUM_CUSTOMER','LIFESTAGE'])['PROD_QTY'].sum()\n",
    "# calculating the total of chips of each premium customer segment\n",
    "chip_by_seg.groupby('PREMIUM_CUSTOMER').sum()"
   ]
  },
  {
   "cell_type": "code",
   "execution_count": 416,
   "metadata": {},
   "outputs": [
    {
     "data": {
      "text/plain": [
       "PREMIUM_CUSTOMER  LIFESTAGE             \n",
       "Budget            OLDER FAMILIES            41853\n",
       "Mainstream        RETIREES                  37677\n",
       "                  YOUNG SINGLES/COUPLES     36225\n",
       "Budget            YOUNG FAMILIES            34482\n",
       "                  OLDER SINGLES/COUPLES     32883\n",
       "Mainstream        OLDER SINGLES/COUPLES     32607\n",
       "Premium           OLDER SINGLES/COUPLES     31695\n",
       "Budget            RETIREES                  26932\n",
       "Mainstream        OLDER FAMILIES            25804\n",
       "Premium           RETIREES                  23266\n",
       "Mainstream        YOUNG FAMILIES            23194\n",
       "                  MIDAGE SINGLES/COUPLES    21213\n",
       "Premium           YOUNG FAMILIES            20901\n",
       "                  OLDER FAMILIES            20239\n",
       "Budget            YOUNG SINGLES/COUPLES     15500\n",
       "Premium           MIDAGE SINGLES/COUPLES    14400\n",
       "                  YOUNG SINGLES/COUPLES     10575\n",
       "Budget            MIDAGE SINGLES/COUPLES     8883\n",
       "                  NEW FAMILIES               5241\n",
       "Mainstream        NEW FAMILIES               4060\n",
       "Premium           NEW FAMILIES               2769\n",
       "Name: PROD_QTY, dtype: int64"
      ]
     },
     "execution_count": 416,
     "metadata": {},
     "output_type": "execute_result"
    }
   ],
   "source": [
    "chip_by_seg.sort_values(ascending=False)"
   ]
  },
  {
   "cell_type": "markdown",
   "metadata": {},
   "source": [
    "The same top 3 and bottom 3 statements are held for the number of chips as well."
   ]
  },
  {
   "cell_type": "markdown",
   "metadata": {},
   "source": [
    "---"
   ]
  },
  {
   "cell_type": "markdown",
   "metadata": {},
   "source": [
    "## What's the average chip price by customer segment?"
   ]
  },
  {
   "cell_type": "code",
   "execution_count": 417,
   "metadata": {},
   "outputs": [
    {
     "data": {
      "text/plain": [
       "PREMIUM_CUSTOMER  LIFESTAGE             \n",
       "Budget            MIDAGE SINGLES/COUPLES    7.108442\n",
       "                  NEW FAMILIES              7.297256\n",
       "                  OLDER FAMILIES            7.291241\n",
       "                  OLDER SINGLES/COUPLES     7.444305\n",
       "                  RETIREES                  7.445786\n",
       "                  YOUNG FAMILIES            7.302705\n",
       "                  YOUNG SINGLES/COUPLES     6.663023\n",
       "Mainstream        MIDAGE SINGLES/COUPLES    7.637156\n",
       "                  NEW FAMILIES              7.313364\n",
       "                  OLDER FAMILIES            7.281440\n",
       "                  OLDER SINGLES/COUPLES     7.306049\n",
       "                  RETIREES                  7.269352\n",
       "                  YOUNG FAMILIES            7.226772\n",
       "                  YOUNG SINGLES/COUPLES     7.551279\n",
       "Premium           MIDAGE SINGLES/COUPLES    7.152371\n",
       "                  NEW FAMILIES              7.231720\n",
       "                  OLDER FAMILIES            7.232779\n",
       "                  OLDER SINGLES/COUPLES     7.459997\n",
       "                  RETIREES                  7.461315\n",
       "                  YOUNG FAMILIES            7.285951\n",
       "                  YOUNG SINGLES/COUPLES     6.673325\n",
       "Name: TOT_SALES, dtype: float64"
      ]
     },
     "execution_count": 417,
     "metadata": {},
     "output_type": "execute_result"
    }
   ],
   "source": [
    "avg_chip_by_seg = data.groupby(['PREMIUM_CUSTOMER','LIFESTAGE'])['TOT_SALES'].mean()\n",
    "avg_chip_by_seg"
   ]
  },
  {
   "cell_type": "markdown",
   "metadata": {},
   "source": [
    "Based on the descriptive statistics above:\n",
    "- The range are around 6.66 to 7.63 dollars per segment.\n",
    "- Overall, the average of chip sales in each segment is similar."
   ]
  },
  {
   "cell_type": "markdown",
   "metadata": {},
   "source": [
    "---"
   ]
  },
  {
   "cell_type": "markdown",
   "metadata": {},
   "source": [
    "## The customer's total spend over the period"
   ]
  },
  {
   "cell_type": "code",
   "execution_count": 448,
   "metadata": {},
   "outputs": [
    {
     "data": {
      "text/html": [
       "<div>\n",
       "<style scoped>\n",
       "    .dataframe tbody tr th:only-of-type {\n",
       "        vertical-align: middle;\n",
       "    }\n",
       "\n",
       "    .dataframe tbody tr th {\n",
       "        vertical-align: top;\n",
       "    }\n",
       "\n",
       "    .dataframe thead th {\n",
       "        text-align: right;\n",
       "    }\n",
       "</style>\n",
       "<table border=\"1\" class=\"dataframe\">\n",
       "  <thead>\n",
       "    <tr style=\"text-align: right;\">\n",
       "      <th></th>\n",
       "      <th>TOT_SALES</th>\n",
       "      <th>TXN_ID</th>\n",
       "      <th>AVG_SALES</th>\n",
       "    </tr>\n",
       "    <tr>\n",
       "      <th>DATE</th>\n",
       "      <th></th>\n",
       "      <th></th>\n",
       "      <th></th>\n",
       "    </tr>\n",
       "  </thead>\n",
       "  <tbody>\n",
       "    <tr>\n",
       "      <th>2018-07-01</th>\n",
       "      <td>4920.1</td>\n",
       "      <td>663</td>\n",
       "      <td>7.420965</td>\n",
       "    </tr>\n",
       "    <tr>\n",
       "      <th>2018-07-02</th>\n",
       "      <td>4877.0</td>\n",
       "      <td>650</td>\n",
       "      <td>7.503077</td>\n",
       "    </tr>\n",
       "    <tr>\n",
       "      <th>2018-07-03</th>\n",
       "      <td>4954.7</td>\n",
       "      <td>674</td>\n",
       "      <td>7.351187</td>\n",
       "    </tr>\n",
       "    <tr>\n",
       "      <th>2018-07-04</th>\n",
       "      <td>4968.1</td>\n",
       "      <td>669</td>\n",
       "      <td>7.426158</td>\n",
       "    </tr>\n",
       "    <tr>\n",
       "      <th>2018-07-05</th>\n",
       "      <td>4682.0</td>\n",
       "      <td>660</td>\n",
       "      <td>7.093939</td>\n",
       "    </tr>\n",
       "    <tr>\n",
       "      <th>...</th>\n",
       "      <td>...</td>\n",
       "      <td>...</td>\n",
       "      <td>...</td>\n",
       "    </tr>\n",
       "    <tr>\n",
       "      <th>2019-06-26</th>\n",
       "      <td>4829.7</td>\n",
       "      <td>657</td>\n",
       "      <td>7.351142</td>\n",
       "    </tr>\n",
       "    <tr>\n",
       "      <th>2019-06-27</th>\n",
       "      <td>4941.3</td>\n",
       "      <td>669</td>\n",
       "      <td>7.386099</td>\n",
       "    </tr>\n",
       "    <tr>\n",
       "      <th>2019-06-28</th>\n",
       "      <td>4876.6</td>\n",
       "      <td>673</td>\n",
       "      <td>7.246062</td>\n",
       "    </tr>\n",
       "    <tr>\n",
       "      <th>2019-06-29</th>\n",
       "      <td>5177.6</td>\n",
       "      <td>703</td>\n",
       "      <td>7.365007</td>\n",
       "    </tr>\n",
       "    <tr>\n",
       "      <th>2019-06-30</th>\n",
       "      <td>5108.4</td>\n",
       "      <td>704</td>\n",
       "      <td>7.256250</td>\n",
       "    </tr>\n",
       "  </tbody>\n",
       "</table>\n",
       "<p>364 rows × 3 columns</p>\n",
       "</div>"
      ],
      "text/plain": [
       "            TOT_SALES  TXN_ID  AVG_SALES\n",
       "DATE                                    \n",
       "2018-07-01     4920.1     663   7.420965\n",
       "2018-07-02     4877.0     650   7.503077\n",
       "2018-07-03     4954.7     674   7.351187\n",
       "2018-07-04     4968.1     669   7.426158\n",
       "2018-07-05     4682.0     660   7.093939\n",
       "...               ...     ...        ...\n",
       "2019-06-26     4829.7     657   7.351142\n",
       "2019-06-27     4941.3     669   7.386099\n",
       "2019-06-28     4876.6     673   7.246062\n",
       "2019-06-29     5177.6     703   7.365007\n",
       "2019-06-30     5108.4     704   7.256250\n",
       "\n",
       "[364 rows x 3 columns]"
      ]
     },
     "execution_count": 448,
     "metadata": {},
     "output_type": "execute_result"
    }
   ],
   "source": [
    "# create a dataframe of total transactions and total sales by date\n",
    "sales_by_date = data.groupby('DATE')[['TOT_SALES','TXN_ID']].agg({'TOT_SALES': 'sum', 'TXN_ID': 'count'})\n",
    "# create a column of average sales by date\n",
    "sales_by_date['AVG_SALES'] = sales_by_date.TOT_SALES / sales_by_date.TXN_ID\n",
    "sales_by_date"
   ]
  },
  {
   "cell_type": "code",
   "execution_count": 459,
   "metadata": {},
   "outputs": [
    {
     "data": {
      "image/png": "[encoded data removed]",
      "text/plain": [
       "<Figure size 1440x1800 with 3 Axes>"
      ]
     },
     "metadata": {
      "needs_background": "light"
     },
     "output_type": "display_data"
    }
   ],
   "source": [
    "fig, ax = plt.subplots(3,1,figsize=(20, 25))\n",
    "\n",
    "# create a plot depicting the number of transactions over time\n",
    "data.DATE.value_counts().sort_index().plot(ax=ax[1], xlabel='Date', ylabel='Number of Transactions', title='Number of Transactions by Date')\n",
    "\n",
    "# create a plot depicting the total spending of customers over time\n",
    "data.groupby('DATE')['TOT_SALES'].sum().plot(ax=ax[0], xlabel='Date', ylabel='Total Sales', title='Total Sales by Date')\n",
    "\n",
    "# create a plot depicting the average spending of customers over time\n",
    "sales_by_date.AVG_SALES.plot(ax=ax[2], xlabel='Date', ylabel='Average Sales', title='Average Sales by Date')\n",
    "\n",
    "plt.show()"
   ]
  },
  {
   "cell_type": "code",
   "execution_count": null,
   "metadata": {},
   "outputs": [],
   "source": []
  }
 ],
 "metadata": {
  "kernelspec": {
   "display_name": "Python 3",
   "language": "python",
   "name": "python3"
  },
  "language_info": {
   "codemirror_mode": {
    "name": "ipython",
    "version": 3
   },
   "file_extension": ".py",
   "mimetype": "text/x-python",
   "name": "python",
   "nbconvert_exporter": "python",
   "pygments_lexer": "ipython3",
   "version": "3.9.0"
  },
  "orig_nbformat": 4
 },
 "nbformat": 4,
 "nbformat_minor": 2
}
